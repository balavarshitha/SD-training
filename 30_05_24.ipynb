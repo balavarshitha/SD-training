{
  "nbformat": 4,
  "nbformat_minor": 0,
  "metadata": {
    "colab": {
      "provenance": []
    },
    "kernelspec": {
      "name": "python3",
      "display_name": "Python 3"
    },
    "language_info": {
      "name": "python"
    }
  },
  "cells": [
    {
      "cell_type": "code",
      "execution_count": 7,
      "metadata": {
        "colab": {
          "base_uri": "https://localhost:8080/"
        },
        "id": "fKRd_5qQmnry",
        "outputId": "6ae08414-5639-4d06-a0d0-b54b00fb71e3"
      },
      "outputs": [
        {
          "output_type": "stream",
          "name": "stdout",
          "text": [
            "3446877846445566\n",
            "27\n"
          ]
        }
      ],
      "source": [
        "#program to print sum of all odd numbers in a given large number\n",
        "num=int(input())\n",
        "totsum=0\n",
        "while num!=0:\n",
        "  rem=num % 10\n",
        "  if rem%2!=0:\n",
        "    totsum+=rem\n",
        "  num//=10\n",
        "print(totsum)"
      ]
    },
    {
      "cell_type": "code",
      "source": [
        "#method 2\n",
        "num2=input()\n",
        "oddlist=['1', '3', '5', '7', '9']\n",
        "totalsum=0\n",
        "for i in num2:\n",
        "  if i in oddlist:\n",
        "    totalsum+=int(i)\n",
        "print(totalsum)"
      ],
      "metadata": {
        "colab": {
          "base_uri": "https://localhost:8080/"
        },
        "id": "amSnFFAZ1xo7",
        "outputId": "4f725693-9b6d-4f25-ef4b-12d578568c5c"
      },
      "execution_count": 8,
      "outputs": [
        {
          "output_type": "stream",
          "name": "stdout",
          "text": [
            "3446877846445566\n",
            "27\n"
          ]
        }
      ]
    },
    {
      "cell_type": "code",
      "source": [
        "#program to sort first half in ascending order and second half in descending order\n",
        "\n",
        "numlist=list(map(int,input().split()))\n",
        "n=len(numlist)\n",
        "res=sorted(numlist)[:n//2]\n",
        "res+=sorted(numlist,reverse=True)[:n//2]\n",
        "print(res)"
      ],
      "metadata": {
        "colab": {
          "base_uri": "https://localhost:8080/"
        },
        "id": "EiHLzVCK4uqd",
        "outputId": "714269bf-09f2-4d22-c2b6-0d33d3ee599f"
      },
      "execution_count": 11,
      "outputs": [
        {
          "output_type": "stream",
          "name": "stdout",
          "text": [
            "1 21 5 2 50 16\n",
            "[1, 2, 5, 50, 21, 16]\n"
          ]
        }
      ]
    },
    {
      "cell_type": "code",
      "source": [
        "#The police department of your city has just started its journey. Initially, they don’t have any manpower. So, they started hiring new recruits in groups.\n",
        "#Meanwhile, crimes keeps occurring within the city. One member of the police force can investigate only one crime during his/her lifetime.\n",
        "#If there is no police officer free (isn't busy with crime) during the occurrence of a crime, it will go untreated.\n",
        "#Given the chronological order of crime occurrences and recruit hirings, find the number of crimes which will go untreated.\n",
        "#Input\n",
        "#The first line of input will contain an integer n (1 ≤ n ≤ 105), the number of events. The next line will contain n space-separated integers.\n",
        "#If the integer is -1 then it means a crime has occurred. Otherwise, the integer will be positive, the number of officers recruited together at that time. No more than 10 officers will be recruited at a time.\n",
        "#Output\n",
        "#Print a single integer, the number of crimes which will go untreated.\n",
        "num=int(input())\n",
        "events=list(map(int,input().split()))\n",
        "avaPolice=0\n",
        "unEvents=0\n",
        "for event in events:\n",
        "  if event>0:\n",
        "    avaPolice+=event\n",
        "  elif event==-1:\n",
        "    if avaPolice<=abs(event):\n",
        "      unEvents+=abs(event)-avaPolice\n",
        "      avaPolice=0\n",
        "    else:\n",
        "      avaPolice-=abs(event)\n",
        "print(unEvents)"
      ],
      "metadata": {
        "colab": {
          "base_uri": "https://localhost:8080/"
        },
        "id": "bSNaq1Es7o6X",
        "outputId": "648083e0-05fb-4f69-a10d-cf0d8a9b2b84"
      },
      "execution_count": 15,
      "outputs": [
        {
          "output_type": "stream",
          "name": "stdout",
          "text": [
            "3\n",
            "-1 -1 1\n",
            "2\n"
          ]
        }
      ]
    },
    {
      "cell_type": "code",
      "source": [
        "#Pete and Billy are great fans of even numbers, that's why they want to divide the watermelon in such a way that each of the two parts weighs even number of kilos,\n",
        "#at the same time it is not obligatory that the parts are equal. The boys are extremely tired and want to start their meal as soon as possible, that's why you should\n",
        "#help them and find out, if they can divide the watermelon in the way they want. For sure, each of them should get a part of positive weight.\n",
        "#Input\n",
        "#The first (and the only) input line contains integer number w (1 ≤ w ≤ 100) — the weight of the watermelon bought by the boys.\n",
        "#Output\n",
        "#Print YES, if the boys can divide the watermelon into two parts, each of them weighing even number of kilos; and NO in the opposite case.\n",
        "weight= int(input())\n",
        "if weight%2==0 and weight>2:\n",
        "  print('YES')\n",
        "else:\n",
        "  print('NO')"
      ],
      "metadata": {
        "colab": {
          "base_uri": "https://localhost:8080/"
        },
        "id": "TR_pDt5CPkEj",
        "outputId": "8ad75c13-5542-4b26-b48a-375f7fc550cd"
      },
      "execution_count": 18,
      "outputs": [
        {
          "output_type": "stream",
          "name": "stdout",
          "text": [
            "8\n",
            "YES\n"
          ]
        }
      ]
    },
    {
      "cell_type": "code",
      "source": [
        "#reverse a given string keeping its special character at the same place\n",
        "string=input()\n",
        "res=''\n",
        "for i in range(len(string)-1,-1,-1):\n",
        "  if string[i].isalnum():\n",
        "    res+=string[i]\n",
        "print(res)"
      ],
      "metadata": {
        "colab": {
          "base_uri": "https://localhost:8080/"
        },
        "id": "IYuOQEJ-8XHD",
        "outputId": "956f6826-b514-4e5b-f500-2fe5453262c7"
      },
      "execution_count": 20,
      "outputs": [
        {
          "output_type": "stream",
          "name": "stdout",
          "text": [
            "h@ello\n",
            "olleh\n"
          ]
        }
      ]
    },
    {
      "cell_type": "code",
      "source": [
        "#or\n",
        "import re\n",
        "string=input()\n",
        "string_list=re.findall(\"[a-zA-Z]\",string)\n",
        "string_list.reverse()\n",
        "for i in range(len(string)):\n",
        "  if(string[i]=='#' or string[i]=='@'):\n",
        "    string_list.insert(i,string[i])\n",
        "print(\"\".join(string_list))"
      ],
      "metadata": {
        "colab": {
          "base_uri": "https://localhost:8080/"
        },
        "id": "BPC3YKCLB0Hn",
        "outputId": "399a95e9-2f89-4d77-a75d-bc411283e628"
      },
      "execution_count": 21,
      "outputs": [
        {
          "output_type": "stream",
          "name": "stdout",
          "text": [
            "34\n",
            "\n"
          ]
        }
      ]
    },
    {
      "cell_type": "code",
      "source": [],
      "metadata": {
        "id": "2q8FpiDqKXcZ"
      },
      "execution_count": null,
      "outputs": []
    }
  ]
}