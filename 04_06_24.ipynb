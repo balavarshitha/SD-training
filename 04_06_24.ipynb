{
  "nbformat": 4,
  "nbformat_minor": 0,
  "metadata": {
    "colab": {
      "provenance": []
    },
    "kernelspec": {
      "name": "python3",
      "display_name": "Python 3"
    },
    "language_info": {
      "name": "python"
    }
  },
  "cells": [
    {
      "cell_type": "code",
      "execution_count": 2,
      "metadata": {
        "colab": {
          "base_uri": "https://localhost:8080/"
        },
        "id": "yCx9Ce1yVXtU",
        "outputId": "7bc3891e-d3f5-42fd-ebee-37bb78a524c8"
      },
      "outputs": [
        {
          "output_type": "stream",
          "name": "stdout",
          "text": [
            "1\n",
            "qwryupcsfoghjkldezxvbintma\n",
            "ativedoc\n",
            "codevita"
          ]
        }
      ],
      "source": [
        "'''ip:  2\n",
        "polikujmnhytgbvfredcxswqaz\n",
        "abcd\n",
        "qwryupcsfoghjkldezxvbintma\n",
        "ativedoc\n",
        "op:bdca\n",
        "codevita'''\n",
        "tCase=int(input())\n",
        "for i in range(tCase):\n",
        "  lexi=input()\n",
        "  s=input()\n",
        "  for i in range(len(lexi)):\n",
        "    c=lexi[i]\n",
        "    if c in s:\n",
        "      print(c,end='')"
      ]
    },
    {
      "cell_type": "code",
      "source": [
        "'''Vanya really likes math. One day when he was solving another math problem, he came up with an interesting tree. This tree is built as follows.\n",
        "Initially, the tree has only one vertex with the number 1\n",
        " — the root of the tree. Then, Vanya adds two children to it, assigning them consecutive numbers — 2\n",
        " and 3\n",
        ", respectively. After that, he will add children to the vertices in increasing order of their numbers, starting from 2\n",
        ", assigning their children the minimum unused indices. As a result, Vanya will have an infinite tree with the root in the vertex 1\n",
        ", where each vertex will have exactly two children, and the vertex numbers will be arranged sequentially by layers.'''\n",
        "def totalSum(self,root):\n",
        "  if root is None:\n",
        "    return 0\n",
        "  else:\n",
        "    leftSum=totalSum(root.left)\n",
        "    rightSum=totalSum(root.right)\n",
        "    return root.data + leftSum + rightSum\n",
        "def treeMax(self,root):\n",
        "  if root is None:\n",
        "    return 0\n",
        "  else:\n",
        "    leftMax=treeMax(root.left)\n",
        "    rightMax=treeMax(root.right)\n",
        "    return max(root.data,leftMax,rightMax)\n",
        "def treeHeight(self,root):\n",
        "  if root is None:\n",
        "    return 0\n",
        "  else:\n",
        "    leftHeight=treeHeight(root.left)\n",
        "    rightHeight=treeHeight(root.right)\n",
        "    return 1+max(leftHeight,rightHeight)\n",
        "def existInTree(self,root,value):\n",
        "  if root is None:\n",
        "    return False\n",
        "  else:\n",
        "    inLeft=existInTree(root.left,value)\n",
        "    inRight=existInTree(root.right,value)\n",
        "    return root.data==value or inLeft or inRight\n",
        "def reverseTree(self,root):\n",
        "  if root is None:\n",
        "    return\n",
        "  else:\n",
        "    reverseTree(root.left)\n",
        "    reverseTree(root.right)\n",
        "    temp=root.left\n",
        "    root.left=root.right\n",
        "    root.right=temp"
      ],
      "metadata": {
        "id": "L22TiwHJuN61"
      },
      "execution_count": 7,
      "outputs": []
    },
    {
      "cell_type": "code",
      "source": [],
      "metadata": {
        "id": "QqcyDhGkrPdt"
      },
      "execution_count": null,
      "outputs": []
    }
  ]
}