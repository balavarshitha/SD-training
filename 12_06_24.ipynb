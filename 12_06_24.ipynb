{
  "nbformat": 4,
  "nbformat_minor": 0,
  "metadata": {
    "colab": {
      "provenance": []
    },
    "kernelspec": {
      "name": "python3",
      "display_name": "Python 3"
    },
    "language_info": {
      "name": "python"
    }
  },
  "cells": [
    {
      "cell_type": "code",
      "execution_count": 6,
      "metadata": {
        "colab": {
          "base_uri": "https://localhost:8080/"
        },
        "id": "lBjg4XohnpeD",
        "outputId": "e177579c-4a36-4549-d156-858b57011b09"
      },
      "outputs": [
        {
          "output_type": "stream",
          "name": "stdout",
          "text": [
            "7\n",
            "7\n",
            "8\n",
            "1\n"
          ]
        }
      ],
      "source": [
        "'''ipnput:fisrt line contains N\n",
        "second line contains D\n",
        "after that N lines contain the ith persons meatball weight\n",
        "op: the 1 based index of the man whose meatball is served at the last\n",
        "ip:4\n",
        "   2\n",
        "  [7 8 9 3]\n",
        "op:\n",
        "  3'''\n",
        "N=int(input())\n",
        "D=int(input())\n",
        "mbList=list(map(int,input().split()))\n",
        "soldQty=[(i-1)//D for i in mbList]\n",
        "print(soldQty.index(max(soldQty))+1)"
      ]
    },
    {
      "cell_type": "code",
      "source": [
        "'''first line contains N\n",
        "second line N contains ith earning for the ith book\n",
        "after that\n",
        "ip:3\n",
        "[3 4 2]\n",
        "[5 3 4]\n",
        "op:3'''\n",
        "N=int(input())\n",
        "eList=list(map(int,input().split()))\n",
        "cList=list(map(int,input().split()))\n",
        "costing=sum(eList)-sum(cList)\n",
        "if costing<0:\n",
        "  print(abs(costing))\n",
        "else:\n",
        "  print(\"0\")"
      ],
      "metadata": {
        "colab": {
          "base_uri": "https://localhost:8080/"
        },
        "id": "q3vWX6RDxTCs",
        "outputId": "141c03e0-f825-4ff6-f8eb-9703e9b7576a"
      },
      "execution_count": 7,
      "outputs": [
        {
          "output_type": "stream",
          "name": "stdout",
          "text": [
            "8\n",
            "9\n",
            "9\n",
            "0\n"
          ]
        }
      ]
    },
    {
      "cell_type": "code",
      "source": [
        "'''You have a long flowerbed in which some of the plots are planted, and some are not. However, flowers cannot be planted in adjacent plots.\n",
        "Given an integer array flowerbed containing 0's and 1's, where 0 means empty and 1 means not empty, and an integer n, return true if n new\n",
        " flowers can be planted in the flowerbed without violating the no-adjacent-flowers rule and false otherwise.'''\n",
        "class Solution:\n",
        "  def canPlaceFlowers(self, flowerbed: List[int], n: int) -> bool:\n",
        "    size=len(flowerbed)\n",
        "    i=0\n",
        "    while i<size:\n",
        "      if flowerbed[i]==0 and (i==0 or flowerbed[i-1]==0) and (i==size-1 or flowerbed[i+1]==0):\n",
        "        flowerbed[i]=1\n",
        "        n-=1\n",
        "      i+=1\n",
        "    return n<=0\n",
        "\n",
        ""
      ],
      "metadata": {
        "colab": {
          "base_uri": "https://localhost:8080/",
          "height": 332
        },
        "id": "kI6SZgCQ7uTB",
        "outputId": "ec081fc4-569d-4083-cd61-6771fa8e0602"
      },
      "execution_count": 8,
      "outputs": [
        {
          "output_type": "error",
          "ename": "NameError",
          "evalue": "name 'List' is not defined",
          "traceback": [
            "\u001b[0;31m---------------------------------------------------------------------------\u001b[0m",
            "\u001b[0;31mNameError\u001b[0m                                 Traceback (most recent call last)",
            "\u001b[0;32m<ipython-input-8-95b849f5c74c>\u001b[0m in \u001b[0;36m<cell line: 4>\u001b[0;34m()\u001b[0m\n\u001b[1;32m      2\u001b[0m \u001b[0mGiven\u001b[0m \u001b[0man\u001b[0m \u001b[0minteger\u001b[0m \u001b[0marray\u001b[0m \u001b[0mflowerbed\u001b[0m \u001b[0mcontaining\u001b[0m \u001b[0;36m0\u001b[0m\u001b[0;34m's and 1'\u001b[0m\u001b[0ms\u001b[0m\u001b[0;34m,\u001b[0m \u001b[0mwhere\u001b[0m \u001b[0;36m0\u001b[0m \u001b[0mmeans\u001b[0m \u001b[0mempty\u001b[0m \u001b[0;32mand\u001b[0m \u001b[0;36m1\u001b[0m \u001b[0mmeans\u001b[0m \u001b[0;32mnot\u001b[0m \u001b[0mempty\u001b[0m\u001b[0;34m,\u001b[0m \u001b[0;32mand\u001b[0m \u001b[0man\u001b[0m \u001b[0minteger\u001b[0m \u001b[0mn\u001b[0m\u001b[0;34m,\u001b[0m \u001b[0;32mreturn\u001b[0m \u001b[0mtrue\u001b[0m \u001b[0;32mif\u001b[0m \u001b[0mn\u001b[0m \u001b[0mnew\u001b[0m\u001b[0;34m\u001b[0m\u001b[0;34m\u001b[0m\u001b[0m\n\u001b[1;32m      3\u001b[0m  flowers can be planted in the flowerbed without violating the no-adjacent-flowers rule and false otherwise.'''\n\u001b[0;32m----> 4\u001b[0;31m \u001b[0;32mclass\u001b[0m \u001b[0mSolution\u001b[0m\u001b[0;34m:\u001b[0m\u001b[0;34m\u001b[0m\u001b[0;34m\u001b[0m\u001b[0m\n\u001b[0m\u001b[1;32m      5\u001b[0m   \u001b[0;32mdef\u001b[0m \u001b[0mcanPlaceFlowers\u001b[0m\u001b[0;34m(\u001b[0m\u001b[0mself\u001b[0m\u001b[0;34m,\u001b[0m \u001b[0mflowerbed\u001b[0m\u001b[0;34m:\u001b[0m \u001b[0mList\u001b[0m\u001b[0;34m[\u001b[0m\u001b[0mint\u001b[0m\u001b[0;34m]\u001b[0m\u001b[0;34m,\u001b[0m \u001b[0mn\u001b[0m\u001b[0;34m:\u001b[0m \u001b[0mint\u001b[0m\u001b[0;34m)\u001b[0m \u001b[0;34m->\u001b[0m \u001b[0mbool\u001b[0m\u001b[0;34m:\u001b[0m\u001b[0;34m\u001b[0m\u001b[0;34m\u001b[0m\u001b[0m\n\u001b[1;32m      6\u001b[0m     \u001b[0msize\u001b[0m\u001b[0;34m=\u001b[0m\u001b[0mlen\u001b[0m\u001b[0;34m(\u001b[0m\u001b[0mflowerbed\u001b[0m\u001b[0;34m)\u001b[0m\u001b[0;34m\u001b[0m\u001b[0;34m\u001b[0m\u001b[0m\n",
            "\u001b[0;32m<ipython-input-8-95b849f5c74c>\u001b[0m in \u001b[0;36mSolution\u001b[0;34m()\u001b[0m\n\u001b[1;32m      3\u001b[0m  flowers can be planted in the flowerbed without violating the no-adjacent-flowers rule and false otherwise.'''\n\u001b[1;32m      4\u001b[0m \u001b[0;32mclass\u001b[0m \u001b[0mSolution\u001b[0m\u001b[0;34m:\u001b[0m\u001b[0;34m\u001b[0m\u001b[0;34m\u001b[0m\u001b[0m\n\u001b[0;32m----> 5\u001b[0;31m   \u001b[0;32mdef\u001b[0m \u001b[0mcanPlaceFlowers\u001b[0m\u001b[0;34m(\u001b[0m\u001b[0mself\u001b[0m\u001b[0;34m,\u001b[0m \u001b[0mflowerbed\u001b[0m\u001b[0;34m:\u001b[0m \u001b[0mList\u001b[0m\u001b[0;34m[\u001b[0m\u001b[0mint\u001b[0m\u001b[0;34m]\u001b[0m\u001b[0;34m,\u001b[0m \u001b[0mn\u001b[0m\u001b[0;34m:\u001b[0m \u001b[0mint\u001b[0m\u001b[0;34m)\u001b[0m \u001b[0;34m->\u001b[0m \u001b[0mbool\u001b[0m\u001b[0;34m:\u001b[0m\u001b[0;34m\u001b[0m\u001b[0;34m\u001b[0m\u001b[0m\n\u001b[0m\u001b[1;32m      6\u001b[0m     \u001b[0msize\u001b[0m\u001b[0;34m=\u001b[0m\u001b[0mlen\u001b[0m\u001b[0;34m(\u001b[0m\u001b[0mflowerbed\u001b[0m\u001b[0;34m)\u001b[0m\u001b[0;34m\u001b[0m\u001b[0;34m\u001b[0m\u001b[0m\n\u001b[1;32m      7\u001b[0m     \u001b[0mi\u001b[0m\u001b[0;34m=\u001b[0m\u001b[0;36m0\u001b[0m\u001b[0;34m\u001b[0m\u001b[0;34m\u001b[0m\u001b[0m\n",
            "\u001b[0;31mNameError\u001b[0m: name 'List' is not defined"
          ]
        }
      ]
    },
    {
      "cell_type": "code",
      "source": [
        "class Solution:\n",
        "  def minSubsequence(self, nums: List[int]) -> List[int]:\n",
        "    ans = []\n",
        "    maxHeap = [-num for num in nums]\n",
        "    heapq.heapify(maxHeap)\n",
        "    half = sum(nums) // 2\n",
        "\n",
        "    while half >= 0:\n",
        "      ans.append(-maxHeap[0])\n",
        "      half += heapq.heappop(maxHeap)\n",
        "\n",
        "    return ans"
      ],
      "metadata": {
        "id": "SlPcwabQuiAi"
      },
      "execution_count": null,
      "outputs": []
    },
    {
      "cell_type": "code",
      "source": [
        "'''Given the array nums, obtain a subsequence of the array whose sum of elements is strictly greater than the sum of the non included elements in such subsequence.\n",
        "If there are multiple solutions, return the subsequence with minimum size and if there still exist multiple solutions, return the subsequence with the maximum\n",
        " total sum of all its elements. A subsequence of an array can be obtained by erasing some (possibly zero) elements from the array.\n",
        "Note that the solution with the given constraints is guaranteed to be unique. Also return the answer sorted in non-increasing order.'''\n",
        "class Solution:\n",
        "  def arrayPairSum(self, nums: List[int]) -> int:\n",
        "    nums.sort()\n",
        "    ans = 0\n",
        "    for i in range(0, len(nums), 2):\n",
        "      ans += nums[i]\n",
        "    return ans"
      ],
      "metadata": {
        "id": "4jH1fr3p6xWN"
      },
      "execution_count": null,
      "outputs": []
    },
    {
      "cell_type": "code",
      "source": [
        "'''There are n seats and n students in a room. You are given an array seats of length n, where seats[i] is the position of the ith seat.\n",
        "You are also given the array students of length n, where students[j] is the position of the jth student.\n",
        "You may perform the following move any number of times:\n",
        "Increase or decrease the position of the ith student by 1 (i.e., moving the ith student from position x to x + 1 or x - 1)\n",
        "Return the minimum number of moves required to move each student to a seat such that no two students are in the same seat.\n",
        "Note that there may be multiple seats or students in the same position at the beginning.'''\n"
      ],
      "metadata": {
        "id": "Sc_1G2KBCDzk"
      },
      "execution_count": null,
      "outputs": []
    }
  ]
}