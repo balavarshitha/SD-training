{
  "nbformat": 4,
  "nbformat_minor": 0,
  "metadata": {
    "colab": {
      "provenance": []
    },
    "kernelspec": {
      "name": "python3",
      "display_name": "Python 3"
    },
    "language_info": {
      "name": "python"
    }
  },
  "cells": [
    {
      "cell_type": "code",
      "execution_count": 20,
      "metadata": {
        "id": "xNXnkcFnvUvz"
      },
      "outputs": [],
      "source": [
        "#linked list\n",
        "class Node:\n",
        "    def __init__(self,data):\n",
        "        self.data=data\n",
        "        self.next=None\n",
        "    def _repr_(self):\n",
        "        return self.data\n",
        "class Linkedlist:\n",
        "    def __init__(self,nodes=None):\n",
        "        self.head=None\n",
        "        if nodes is not None:\n",
        "            node=Node(data=nodes.pop(0))\n",
        "            self.head=node\n",
        "            for elem in nodes:\n",
        "                node.next=Node(data=elem)\n",
        "                node=node.next\n",
        "    def __iter__(self):\n",
        "        node = self.head\n",
        "        while node is not None:\n",
        "            yield node\n",
        "            node = node.next\n",
        "    def __repr__(self):\n",
        "        node=self.head\n",
        "        nodes=[]\n",
        "        while node is not None:\n",
        "            nodes.append(node.data)\n",
        "            node=node.next\n",
        "        nodes.append(\"None\")\n",
        "        return \"->\".join(nodes)\n",
        "    def add_last(self,node):\n",
        "        if self.head is None:\n",
        "            self.head=node\n",
        "            return\n",
        "        for current_node in self:\n",
        "            pass\n",
        "        current_node.next=node"
      ]
    },
    {
      "cell_type": "code",
      "source": [
        "llist=Linkedlist()\n",
        "llist\n",
        "first_node=Node('mehhh')\n",
        "llist.head=first_node\n",
        "llist\n",
        "\n",
        "second_node=Node('moooo')\n",
        "third_node=Node('boww')\n",
        "forth_node=Node('meoww')\n",
        "first_node.next=second_node\n",
        "second_node.next=third_node\n",
        "third_node.next=forth_node\n",
        "llist"
      ],
      "metadata": {
        "colab": {
          "base_uri": "https://localhost:8080/"
        },
        "id": "6sE6fGHGBiZ3",
        "outputId": "21a90efe-b82b-44ee-df6d-265e31210f64"
      },
      "execution_count": 21,
      "outputs": [
        {
          "output_type": "execute_result",
          "data": {
            "text/plain": [
              "mehhh->moooo->boww->meoww->None"
            ]
          },
          "metadata": {},
          "execution_count": 21
        }
      ]
    },
    {
      "cell_type": "code",
      "source": [
        "llist=Linkedlist(['Tejaswi','Varshitha'])\n",
        "llist.add_last(Node('Maniswar'))\n",
        "llist"
      ],
      "metadata": {
        "colab": {
          "base_uri": "https://localhost:8080/"
        },
        "id": "ju_66A6xb7oX",
        "outputId": "6436b527-229a-43d3-f9f8-8c342b18b172"
      },
      "execution_count": 22,
      "outputs": [
        {
          "output_type": "execute_result",
          "data": {
            "text/plain": [
              "Tejaswi->Varshitha->Maniswar->None"
            ]
          },
          "metadata": {},
          "execution_count": 22
        }
      ]
    },
    {
      "cell_type": "code",
      "source": [
        "#Ann has recently started commuting by subway. We know that a one ride subway ticket costs a rubles. Besides, Ann found out that she can buy a special ticket\n",
        " #for m rides (she can buy it several times). It costs b rubles. Ann did the math; she will need to use subway n times. Help Ann, tell her what is the minimum\n",
        " #sum of money she will have to spend to make n rides?\n",
        "#Input\n",
        "#The single line contains four space-separated integers n, m, a, b (1 ≤ n, m, a, b ≤ 1000) — the number of rides Ann has planned, the number of rides covered by\n",
        " #the m ride ticket, the price of a one ride ticket and the price of an m ride ticket.\n",
        "#Output\n",
        "#Print a single integer — the minimum sum in rubles that Ann will need to spend.\n",
        "n,m,a,b=list(map(int,input().split()))\n",
        "if m*a<=b:\n",
        "  print(n*a)\n",
        "else:\n",
        "  print((n/m)*b + min((n%m)*a,b))"
      ],
      "metadata": {
        "colab": {
          "base_uri": "https://localhost:8080/"
        },
        "id": "xi0mFsWDBvhm",
        "outputId": "02b02a6a-7165-4d2a-aa30-c6c6528c6989"
      },
      "execution_count": 25,
      "outputs": [
        {
          "output_type": "stream",
          "name": "stdout",
          "text": [
            "6 2 1 2\n",
            "6\n"
          ]
        }
      ]
    },
    {
      "cell_type": "code",
      "source": [
        "# prompt: swap 2 elements in linked list\n",
        "\n",
        "def swap_nodes(linkedlist, node1, node2):\n",
        "  prev1 = None\n",
        "  curr1 = linkedlist.head\n",
        "  while curr1 is not None and curr1.data != node1:\n",
        "    prev1 = curr1\n",
        "    curr1 = curr1.next\n",
        "  prev2 = None\n",
        "  curr2 = linkedlist.head\n",
        "  while curr2 is not None and curr2.data != node2:\n",
        "    prev2 = curr2\n",
        "    curr2 = curr2.next\n",
        "  if curr1 is None or curr2 is None:\n",
        "    return\n",
        "  if prev1 is None:\n",
        "    linkedlist.head = curr2\n",
        "  else:\n",
        "    prev1.next = curr2\n",
        "  if prev2 is None:\n",
        "    linkedlist.head = curr1\n",
        "  else:\n",
        "    prev2.next = curr1\n",
        "  curr1.next, curr2.next = curr2.next, curr1.next\n",
        "  return linkedlist\n",
        "swap_nodes(llist, 'Tejaswi', 'Varshitha')\n",
        "llist"
      ],
      "metadata": {
        "colab": {
          "base_uri": "https://localhost:8080/"
        },
        "id": "MvX7qoZY1i2C",
        "outputId": "0927bc02-300c-403c-bee9-f30e6f6ad640"
      },
      "execution_count": 28,
      "outputs": [
        {
          "output_type": "execute_result",
          "data": {
            "text/plain": [
              "Varshitha->Tejaswi->Maniswar->None"
            ]
          },
          "metadata": {},
          "execution_count": 28
        }
      ]
    },
    {
      "cell_type": "code",
      "source": [
        "\n"
      ],
      "metadata": {
        "id": "9hCXnfi71s7H"
      },
      "execution_count": null,
      "outputs": []
    },
    {
      "cell_type": "code",
      "source": [
        "# prompt: #input 647 667\n",
        "# #output 1->3->1->4\n",
        "\n",
        "#input: 647 667\n",
        "#output: 1->3->1->4\n",
        "\n",
        "#input: 56 1000\n",
        "#output: 1->0->5->6\n",
        "n1,n2=input().split()\n",
        "ll1=Linkedlist(list(n1))\n",
        "ll2=Linkedlist(list(n2))\n",
        "print(ll1)\n",
        "print(ll2)\n"
      ],
      "metadata": {
        "colab": {
          "base_uri": "https://localhost:8080/"
        },
        "id": "_JYbTbwBJaZM",
        "outputId": "eff24883-a802-4cbe-b3d9-afb74cf789e7"
      },
      "execution_count": 30,
      "outputs": [
        {
          "output_type": "stream",
          "name": "stdout",
          "text": [
            "1000 56\n",
            "1->0->0->0->None\n",
            "5->6->None\n"
          ]
        }
      ]
    },
    {
      "cell_type": "code",
      "source": [],
      "metadata": {
        "id": "0M6NE0NlJc-t"
      },
      "execution_count": null,
      "outputs": []
    }
  ]
}