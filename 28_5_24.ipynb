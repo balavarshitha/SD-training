{
  "nbformat": 4,
  "nbformat_minor": 0,
  "metadata": {
    "colab": {
      "provenance": []
    },
    "kernelspec": {
      "name": "python3",
      "display_name": "Python 3"
    },
    "language_info": {
      "name": "python"
    }
  },
  "cells": [
    {
      "cell_type": "code",
      "execution_count": 10,
      "metadata": {
        "colab": {
          "base_uri": "https://localhost:8080/"
        },
        "id": "LqOZLxN2XUQE",
        "outputId": "69fe0ea1-4844-46e6-937f-39c3a1f411d4"
      },
      "outputs": [
        {
          "output_type": "stream",
          "name": "stdout",
          "text": [
            "13\n",
            "prime\n"
          ]
        }
      ],
      "source": [
        "#check if a num is prime or not\n",
        "num=int(input())\n",
        "count=0\n",
        "for i in range(1,num+1):\n",
        "  if num % i==0:\n",
        "    count+=1\n",
        "if count==2:\n",
        "  print(\"prime\")\n",
        "else:\n",
        "  print(\"not a prime\")"
      ]
    },
    {
      "cell_type": "code",
      "source": [
        "#method2\n",
        "num=int(input())\n",
        "for deno in range(2,(num//2)+1):\n",
        "  if num % deno==0:\n",
        "    print(\"not prime\")\n",
        "    break\n",
        "else:\n",
        "  print(\"prime\")"
      ],
      "metadata": {
        "colab": {
          "base_uri": "https://localhost:8080/"
        },
        "id": "xOR8uW0OYumj",
        "outputId": "c1b4e226-9771-4d0b-a1d6-b958a82865f9"
      },
      "execution_count": 14,
      "outputs": [
        {
          "output_type": "stream",
          "name": "stdout",
          "text": [
            "13\n",
            "prime\n"
          ]
        }
      ]
    },
    {
      "cell_type": "code",
      "source": [
        "#method3\n",
        "num=int(input())\n",
        "for deno in range(2,num):\n",
        "  if num % deno ==0:\n",
        "    print(\"not prime\")\n",
        "    break\n",
        "else:\n",
        "  print(\"prime\")"
      ],
      "metadata": {
        "colab": {
          "base_uri": "https://localhost:8080/"
        },
        "id": "5SxbCcDHZvXA",
        "outputId": "3d3c24de-00b5-4543-d325-e7613f8fcadd"
      },
      "execution_count": 12,
      "outputs": [
        {
          "output_type": "stream",
          "name": "stdout",
          "text": [
            "13\n",
            "prime\n"
          ]
        }
      ]
    },
    {
      "cell_type": "code",
      "source": [
        "#method4\n",
        "num=int(input())\n",
        "for deno in range(2,int(num**0.5)+1):\n",
        "  if num % deno==0:\n",
        "     print(\"not prime\")\n",
        "     break\n",
        "else:\n",
        "  print(\"prime\")\n"
      ],
      "metadata": {
        "colab": {
          "base_uri": "https://localhost:8080/"
        },
        "id": "Gwd6IUBraU8c",
        "outputId": "946eee36-f053-4123-a98c-3e3bfd6e607c"
      },
      "execution_count": 17,
      "outputs": [
        {
          "output_type": "stream",
          "name": "stdout",
          "text": [
            "13\n",
            "prime\n"
          ]
        }
      ]
    },
    {
      "cell_type": "code",
      "source": [
        "#power of 6\n",
        "#give an integer n , return true if it is a power of 6 ,otherwise return false\n",
        "#an integer n is a power of 6 ,if there exists an integer x such that n=6^x\n",
        "n=int(input())\n",
        "while n % 6==0:\n",
        "  n=n//6\n",
        "if n==1:\n",
        "  print(\"true\")\n",
        "else:\n",
        "  print(\"false\")"
      ],
      "metadata": {
        "colab": {
          "base_uri": "https://localhost:8080/"
        },
        "id": "84Uy-V_Mbdz5",
        "outputId": "c7dfe979-cb6a-4204-be09-5e47812d2726"
      },
      "execution_count": 19,
      "outputs": [
        {
          "output_type": "stream",
          "name": "stdout",
          "text": [
            "60\n",
            "false\n"
          ]
        }
      ]
    },
    {
      "cell_type": "code",
      "source": [
        "#n=5\n",
        "#output 5 4 3 2 1 using recursion\n",
        "def rec(n):\n",
        "  if n==0:\n",
        "    return\n",
        "  print(n,end=\" \")\n",
        "  rec(n-1)\n",
        "rec(5)"
      ],
      "metadata": {
        "colab": {
          "base_uri": "https://localhost:8080/"
        },
        "id": "GvQJzoXbdYVd",
        "outputId": "9428b085-31d8-47f4-daa5-7be94442e8dc"
      },
      "execution_count": 22,
      "outputs": [
        {
          "output_type": "stream",
          "name": "stdout",
          "text": [
            "5 4 3 2 1 "
          ]
        }
      ]
    },
    {
      "cell_type": "code",
      "source": [
        "#or\n",
        "def greet(n):\n",
        "  if n<=0:\n",
        "    return\n",
        "  print(\"hello\")\n",
        "  greet(n-1)\n",
        "greet(5)"
      ],
      "metadata": {
        "colab": {
          "base_uri": "https://localhost:8080/"
        },
        "id": "fxgwsySPhjXt",
        "outputId": "5ecd2d11-261c-4286-8a7f-ba19f82f2e46"
      },
      "execution_count": 23,
      "outputs": [
        {
          "output_type": "stream",
          "name": "stdout",
          "text": [
            "hello\n",
            "hello\n",
            "hello\n",
            "hello\n",
            "hello\n"
          ]
        }
      ]
    },
    {
      "cell_type": "code",
      "source": [
        "# op: 1 2 3 4 5\n",
        "def rec(n):\n",
        "  if n==0:\n",
        "    return\n",
        "  rec(n-1)\n",
        "\n",
        "  print(n,end=\" \")\n",
        "rec(5)"
      ],
      "metadata": {
        "colab": {
          "base_uri": "https://localhost:8080/"
        },
        "id": "uQrRr2dUjaEv",
        "outputId": "05dab4d9-ecb4-439b-d210-3d080aeabb85"
      },
      "execution_count": 24,
      "outputs": [
        {
          "output_type": "stream",
          "name": "stdout",
          "text": [
            "1 2 3 4 5 "
          ]
        }
      ]
    },
    {
      "cell_type": "code",
      "source": [
        "#print the string in reverse order using recursion\n",
        "strData=\" why are you shy\"\n",
        "def revStr(data):\n",
        "  if data==\"\":\n",
        "    return data\n",
        "  return data[-1]+revStr(data[:-1])\n",
        "print(revStr(strData))\n"
      ],
      "metadata": {
        "colab": {
          "base_uri": "https://localhost:8080/"
        },
        "id": "mZrqa1mUlLpY",
        "outputId": "7321e024-8a17-4435-c184-c215a7a095b9"
      },
      "execution_count": 32,
      "outputs": [
        {
          "output_type": "stream",
          "name": "stdout",
          "text": [
            "yhs uoy era yhw \n"
          ]
        }
      ]
    },
    {
      "cell_type": "code",
      "source": [
        "#'123' ->true\n",
        "#'123a' -> false\n",
        "import string\n",
        "strNum=input()\n",
        "for i in strNum:\n",
        "  if i not in string.digits:\n",
        "    print(\"false\")\n",
        "    break\n",
        "else:\n",
        "  print(\"true\")\n"
      ],
      "metadata": {
        "colab": {
          "base_uri": "https://localhost:8080/"
        },
        "id": "WUM76VjXrEe0",
        "outputId": "3c67e692-6748-4e28-ceef-1334f78ca977"
      },
      "execution_count": 33,
      "outputs": [
        {
          "output_type": "stream",
          "name": "stdout",
          "text": [
            "2\n",
            "true\n"
          ]
        }
      ]
    },
    {
      "cell_type": "code",
      "source": [
        "#generate a num from the given string ,if no digit found return 0\n",
        "#123av45b78 ->12345678 ->[int]\n",
        "import string\n",
        "strNum=input()\n",
        "num=\"\"\n",
        "for i in strNum:\n",
        "  if i in string.digits:\n",
        "    num+=i\n",
        "print(int(num))\n",
        "print(type(num))\n"
      ],
      "metadata": {
        "colab": {
          "base_uri": "https://localhost:8080/"
        },
        "id": "b4IB-ELY82NT",
        "outputId": "43179016-21a5-4a37-e8ec-9a6a0f89d431"
      },
      "execution_count": 38,
      "outputs": [
        {
          "output_type": "stream",
          "name": "stdout",
          "text": [
            "123av45b78\n",
            "1234578\n",
            "<class 'str'>\n"
          ]
        }
      ]
    },
    {
      "cell_type": "code",
      "source": [
        "# prompt: to remove all consecutive duplicates from a given string dynamic input\n",
        "\n",
        "def remove_consecutive_duplicates(input_string):\n",
        "  result = []\n",
        "  for i in range(len(input_string)):\n",
        "    if not result or input_string[i] != result[-1]:\n",
        "      result.append(input_string[i])\n",
        "  return ''.join(result)\n",
        "input_string = input(\"Enter a string: \")\n",
        "output_string = remove_consecutive_duplicates(input_string)\n",
        "print(\"String after removing consecutive duplicates:\", output_string)\n"
      ],
      "metadata": {
        "colab": {
          "base_uri": "https://localhost:8080/"
        },
        "id": "sRwReBH09ORV",
        "outputId": "3900da0e-cb8c-48d5-f9d3-ce7adff34913"
      },
      "execution_count": 41,
      "outputs": [
        {
          "output_type": "stream",
          "name": "stdout",
          "text": [
            "Enter a string: moon\n",
            "String after removing consecutive duplicates: mon\n"
          ]
        }
      ]
    },
    {
      "cell_type": "code",
      "source": [
        "print('hElLo'.swapcase())"
      ],
      "metadata": {
        "colab": {
          "base_uri": "https://localhost:8080/"
        },
        "id": "2w6WviZMUANV",
        "outputId": "26ce0de9-66b6-4e1f-9c36-496020ebed29"
      },
      "execution_count": 42,
      "outputs": [
        {
          "output_type": "stream",
          "name": "stdout",
          "text": [
            "HeLlO\n"
          ]
        }
      ]
    },
    {
      "cell_type": "code",
      "source": [
        "str1=\"welcome\"\n",
        "print(str1*2)"
      ],
      "metadata": {
        "colab": {
          "base_uri": "https://localhost:8080/"
        },
        "id": "ZQSH_4jbtywO",
        "outputId": "e7e07ea8-60ba-4163-bdeb-e3d9c93a0a12"
      },
      "execution_count": 43,
      "outputs": [
        {
          "output_type": "stream",
          "name": "stdout",
          "text": [
            "welcomewelcome\n"
          ]
        }
      ]
    },
    {
      "cell_type": "code",
      "source": [
        "print(str1[:6]+' Coder')"
      ],
      "metadata": {
        "colab": {
          "base_uri": "https://localhost:8080/"
        },
        "id": "pnKasPdpt039",
        "outputId": "0b62430f-eb78-488d-fedd-a7b2408419b2"
      },
      "execution_count": 44,
      "outputs": [
        {
          "output_type": "stream",
          "name": "stdout",
          "text": [
            "welcom Coder\n"
          ]
        }
      ]
    },
    {
      "cell_type": "code",
      "source": [
        "str1=\"is 2020\"\n",
        "str2=\"2020\"\n",
        "print(str1.isdigit())\n",
        "print(str2.isdigit())"
      ],
      "metadata": {
        "colab": {
          "base_uri": "https://localhost:8080/"
        },
        "id": "M89CvuONt2_k",
        "outputId": "3f5e5a3b-2d22-4ba6-a3cb-decb7af7a1c7"
      },
      "execution_count": 45,
      "outputs": [
        {
          "output_type": "stream",
          "name": "stdout",
          "text": [
            "False\n",
            "True\n"
          ]
        }
      ]
    },
    {
      "cell_type": "code",
      "source": [
        "#or\n",
        "data=input()\n",
        "res=data[0]\n",
        "k=0\n",
        "for i in range(1,len(data)):\n",
        "    if data[i]!=res[k]:\n",
        "        res+=data[i]\n",
        "        k+=1\n",
        "print(res)"
      ],
      "metadata": {
        "colab": {
          "base_uri": "https://localhost:8080/"
        },
        "id": "p2reXhG2t5Ur",
        "outputId": "e5314d9f-55db-4856-8034-642ef7469441"
      },
      "execution_count": 46,
      "outputs": [
        {
          "output_type": "stream",
          "name": "stdout",
          "text": [
            "4\n",
            "4\n"
          ]
        }
      ]
    },
    {
      "cell_type": "code",
      "source": [
        "# no.of iterations 3(rotations)\n",
        "# L 2(rotate left side 2 times) L- left rotation  R- right rotation\n",
        "# R 2\n",
        "# L 3\n",
        "# output: NO\n",
        "data=input()\n",
        "rot=int(input())\n",
        "res=''\n",
        "for i in range(rot):\n",
        "    di,mag=input().split()\n",
        "    if di.upper()=='L':\n",
        "        res+=(data[int(mag):]+data[:int(mag)])[0]\n",
        "    elif di.upper()=='R':\n",
        "        res+=(data[:int(mag)]+data[int(mag):])[0]\n",
        "subList=[data[i:i+rot] for i in range(len(data))]\n",
        "#Anagram\n",
        "for subele in subList:\n",
        "    if sorted(subele)==sorted(res):\n",
        "        print(\"Yes\")\n",
        "        break\n",
        "else:\n",
        "    print(\"No\")"
      ],
      "metadata": {
        "colab": {
          "base_uri": "https://localhost:8080/"
        },
        "id": "EvU7yjY7t_aa",
        "outputId": "99d1255b-ddfb-4731-a398-4b6a4a5813bf"
      },
      "execution_count": 49,
      "outputs": [
        {
          "output_type": "stream",
          "name": "stdout",
          "text": [
            "carrace\n",
            "3\n",
            "L 2\n",
            "R 2\n",
            "L 3\n",
            "No\n"
          ]
        }
      ]
    },
    {
      "cell_type": "code",
      "source": [],
      "metadata": {
        "id": "Hx2FW-fBuBjp"
      },
      "execution_count": 49,
      "outputs": []
    }
  ]
}