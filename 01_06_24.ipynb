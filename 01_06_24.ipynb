{
  "nbformat": 4,
  "nbformat_minor": 0,
  "metadata": {
    "colab": {
      "provenance": []
    },
    "kernelspec": {
      "name": "python3",
      "display_name": "Python 3"
    },
    "language_info": {
      "name": "python"
    }
  },
  "cells": [
    {
      "cell_type": "code",
      "source": [
        "# prompt: input contains a string , print it is a palindrome if it is a palindrome else print it is not a palindrome\n",
        "\n",
        "str = input(\"Enter a string: \")\n",
        "if str == str[::-1]:\n",
        "  print(\"It is a palindrome\")\n",
        "else:\n",
        "  print(\"It is not a palindrome\")\n"
      ],
      "metadata": {
        "colab": {
          "base_uri": "https://localhost:8080/"
        },
        "id": "PXeDPmjXDxYh",
        "outputId": "902f58f7-6a9d-4452-b090-d021b269d6c0"
      },
      "execution_count": 20,
      "outputs": [
        {
          "output_type": "stream",
          "name": "stdout",
          "text": [
            "Enter a string: nsna\n",
            "It is not a palindrome\n"
          ]
        }
      ]
    },
    {
      "cell_type": "code",
      "source": [
        "# prompt: input contains a string , print it is a palindrome if it is a palindrome else print it is not a palindrome using stack\n",
        "\n",
        "def is_palindrome(string):\n",
        "  stack = []\n",
        "  for i in string:\n",
        "    stack.append(i)\n",
        "  reverse_string = ''\n",
        "  while len(stack) > 0:\n",
        "    reverse_string += stack.pop()\n",
        "  if string == reverse_string:\n",
        "    return True\n",
        "  return False\n",
        "string = input(\"Enter a string: \")\n",
        "if is_palindrome(string):\n",
        "  print(\"It is a palindrome\")\n",
        "else:\n",
        "  print(\"It is not a palindrome\")\n"
      ],
      "metadata": {
        "colab": {
          "base_uri": "https://localhost:8080/"
        },
        "id": "mtLUYwUUIoVB",
        "outputId": "1cda450e-7da2-4d32-e2d5-17184684ccd8"
      },
      "execution_count": 21,
      "outputs": [
        {
          "output_type": "stream",
          "name": "stdout",
          "text": [
            "Enter a string: afa\n",
            "It is a palindrome\n"
          ]
        }
      ]
    },
    {
      "cell_type": "code",
      "source": [
        "#method3\n",
        "strdata=input()\n",
        "stack=list(strdata)\n",
        "\n",
        "for i in strdata:\n",
        "  if stack.pop()!=i:\n",
        "    print(\"not palindrome\")\n",
        "    break\n",
        "else:\n",
        "  print(\"palindrome\")"
      ],
      "metadata": {
        "colab": {
          "base_uri": "https://localhost:8080/",
          "height": 228
        },
        "id": "ovSBRdj0Jm2P",
        "outputId": "216b342a-5e4a-46ca-8440-7a2179660aff"
      },
      "execution_count": 23,
      "outputs": [
        {
          "name": "stdout",
          "output_type": "stream",
          "text": [
            "sdad\n"
          ]
        },
        {
          "output_type": "error",
          "ename": "TypeError",
          "evalue": "'list' object is not callable",
          "traceback": [
            "\u001b[0;31m---------------------------------------------------------------------------\u001b[0m",
            "\u001b[0;31mTypeError\u001b[0m                                 Traceback (most recent call last)",
            "\u001b[0;32m<ipython-input-23-6a406240a662>\u001b[0m in \u001b[0;36m<cell line: 3>\u001b[0;34m()\u001b[0m\n\u001b[1;32m      1\u001b[0m \u001b[0;31m#method3\u001b[0m\u001b[0;34m\u001b[0m\u001b[0;34m\u001b[0m\u001b[0m\n\u001b[1;32m      2\u001b[0m \u001b[0mstrdata\u001b[0m\u001b[0;34m=\u001b[0m\u001b[0minput\u001b[0m\u001b[0;34m(\u001b[0m\u001b[0;34m)\u001b[0m\u001b[0;34m\u001b[0m\u001b[0;34m\u001b[0m\u001b[0m\n\u001b[0;32m----> 3\u001b[0;31m \u001b[0mstack\u001b[0m\u001b[0;34m=\u001b[0m\u001b[0mlist\u001b[0m\u001b[0;34m(\u001b[0m\u001b[0mstrdata\u001b[0m\u001b[0;34m)\u001b[0m\u001b[0;34m\u001b[0m\u001b[0;34m\u001b[0m\u001b[0m\n\u001b[0m\u001b[1;32m      4\u001b[0m \u001b[0;34m\u001b[0m\u001b[0m\n\u001b[1;32m      5\u001b[0m \u001b[0;32mfor\u001b[0m \u001b[0mi\u001b[0m \u001b[0;32min\u001b[0m \u001b[0mstrdata\u001b[0m\u001b[0;34m:\u001b[0m\u001b[0;34m\u001b[0m\u001b[0;34m\u001b[0m\u001b[0m\n",
            "\u001b[0;31mTypeError\u001b[0m: 'list' object is not callable"
          ]
        }
      ]
    },
    {
      "cell_type": "code",
      "source": [
        "#Given a string s containing just the characters '(', ')', '{', '}', '[' and ']', determine if the input string is valid.\n",
        "#An input string is valid if:\n",
        "#Open brackets must be closed by the same type of brackets.\n",
        "#Open brackets must be closed in the correct order.\n",
        "#Every close bracket has a corresponding open bracket of the same type.\n",
        "class Solution(object):\n",
        "    def isValid(self, s):\n",
        "        stack = []\n",
        "        for i in s:\n",
        "            if i=='(':\n",
        "                stack.append(')')\n",
        "            elif i=='{':\n",
        "                stack.append('}')\n",
        "            elif i=='[':\n",
        "                stack.append(']')\n",
        "            elif not stack or stack.pop()!=i:\n",
        "                return False\n",
        "        return not stack\n",
        "s=input()"
      ],
      "metadata": {
        "id": "Q5cUQaAaNY1x",
        "colab": {
          "base_uri": "https://localhost:8080/"
        },
        "outputId": "aa5c5202-dcdf-4c05-92a1-79a3b5c0e0b5"
      },
      "execution_count": 19,
      "outputs": [
        {
          "name": "stdout",
          "output_type": "stream",
          "text": [
            "{}\n"
          ]
        }
      ]
    },
    {
      "cell_type": "code",
      "source": [
        "#DevG likes too much fun to do with numbers. Once his friend Arya came and gave him a challenge, he gave DevG an array of digits which is forming a number\n",
        " #currently (will be called as given number). DevG was challanged to find the just next greater number which can be formed using digits of given number.\n",
        " #Now DevG needs your help to find that just next greater number and win the challenge.\n",
        "#Input\n",
        "#The first line have t number of test cases (1 <= t <= 100). In next 2*t lines for each test case first there is number n (1 <= n <= 1000000) which denotes\n",
        " #the number of digits in given number and next line contains n digits of given number separated by space.\n",
        "#Output\n",
        "#Print the just next greater number if possible else print -1 in one line for each test case.\n",
        "#Note : There will be no test case which contains zero in starting digits of any given number.\n",
        "\n",
        "t=int(input())\n",
        "for i in range(t):\n",
        "  n=int(input())\n",
        "  numList=list(map(int,input().split()))\n",
        "  index=n-1\n",
        "  for i in range(n-1,0,-1):\n",
        "    if numList[i]>numList[i-1]:\n",
        "      numList[i],numList[i-1]=numList[i-1],numList[i]\n",
        "      index=i\n",
        "      break\n",
        "  res=[str(ele) for ele in (numList[:index]+(numList[index:])[::-1])]\n",
        "  print(''.join(res))"
      ],
      "metadata": {
        "colab": {
          "base_uri": "https://localhost:8080/",
          "height": 263
        },
        "id": "EzfEHkL1Y8iD",
        "outputId": "e6ff5567-e2ee-48b9-d5d3-564cb0aa6d00"
      },
      "execution_count": 24,
      "outputs": [
        {
          "name": "stdout",
          "output_type": "stream",
          "text": [
            "1 \n",
            "3\n",
            "100\n"
          ]
        },
        {
          "output_type": "error",
          "ename": "TypeError",
          "evalue": "'list' object is not callable",
          "traceback": [
            "\u001b[0;31m---------------------------------------------------------------------------\u001b[0m",
            "\u001b[0;31mTypeError\u001b[0m                                 Traceback (most recent call last)",
            "\u001b[0;32m<ipython-input-24-c343a7b8f138>\u001b[0m in \u001b[0;36m<cell line: 12>\u001b[0;34m()\u001b[0m\n\u001b[1;32m     12\u001b[0m \u001b[0;32mfor\u001b[0m \u001b[0mi\u001b[0m \u001b[0;32min\u001b[0m \u001b[0mrange\u001b[0m\u001b[0;34m(\u001b[0m\u001b[0mt\u001b[0m\u001b[0;34m)\u001b[0m\u001b[0;34m:\u001b[0m\u001b[0;34m\u001b[0m\u001b[0;34m\u001b[0m\u001b[0m\n\u001b[1;32m     13\u001b[0m   \u001b[0mn\u001b[0m\u001b[0;34m=\u001b[0m\u001b[0mint\u001b[0m\u001b[0;34m(\u001b[0m\u001b[0minput\u001b[0m\u001b[0;34m(\u001b[0m\u001b[0;34m)\u001b[0m\u001b[0;34m)\u001b[0m\u001b[0;34m\u001b[0m\u001b[0;34m\u001b[0m\u001b[0m\n\u001b[0;32m---> 14\u001b[0;31m   \u001b[0mnumList\u001b[0m\u001b[0;34m=\u001b[0m\u001b[0mlist\u001b[0m\u001b[0;34m(\u001b[0m\u001b[0mmap\u001b[0m\u001b[0;34m(\u001b[0m\u001b[0mint\u001b[0m\u001b[0;34m,\u001b[0m\u001b[0minput\u001b[0m\u001b[0;34m(\u001b[0m\u001b[0;34m)\u001b[0m\u001b[0;34m.\u001b[0m\u001b[0msplit\u001b[0m\u001b[0;34m(\u001b[0m\u001b[0;34m)\u001b[0m\u001b[0;34m)\u001b[0m\u001b[0;34m)\u001b[0m\u001b[0;34m\u001b[0m\u001b[0;34m\u001b[0m\u001b[0m\n\u001b[0m\u001b[1;32m     15\u001b[0m   \u001b[0mindex\u001b[0m\u001b[0;34m=\u001b[0m\u001b[0mn\u001b[0m\u001b[0;34m-\u001b[0m\u001b[0;36m1\u001b[0m\u001b[0;34m\u001b[0m\u001b[0;34m\u001b[0m\u001b[0m\n\u001b[1;32m     16\u001b[0m   \u001b[0;32mfor\u001b[0m \u001b[0mi\u001b[0m \u001b[0;32min\u001b[0m \u001b[0mrange\u001b[0m\u001b[0;34m(\u001b[0m\u001b[0mn\u001b[0m\u001b[0;34m-\u001b[0m\u001b[0;36m1\u001b[0m\u001b[0;34m,\u001b[0m\u001b[0;36m0\u001b[0m\u001b[0;34m,\u001b[0m\u001b[0;34m-\u001b[0m\u001b[0;36m1\u001b[0m\u001b[0;34m)\u001b[0m\u001b[0;34m:\u001b[0m\u001b[0;34m\u001b[0m\u001b[0;34m\u001b[0m\u001b[0m\n",
            "\u001b[0;31mTypeError\u001b[0m: 'list' object is not callable"
          ]
        }
      ]
    },
    {
      "cell_type": "code",
      "source": [
        "'''You are keeping the scores for a baseball game with strange rules. At the beginning of the game, you start with an empty record.\n",
        "\n",
        "You are given a list of strings operations, where operations[i] is the ith operation you must apply to the record and is one of the following:\n",
        "\n",
        "An integer x.\n",
        "Record a new score of x.\n",
        "'+'.\n",
        "Record a new score that is the sum of the previous two scores.\n",
        "'D'.\n",
        "Record a new score that is the double of the previous score.\n",
        "'C'.\n",
        "Invalidate the previous score, removing it from the record.\n",
        "Return the sum of all the scores on the record after applying all the operations.\n",
        "\n",
        "The test cases are generated such that the answer and all intermediate calculations fit in a 32-bit integer and that all operations are valid./'''\n",
        "class Solution(object):\n",
        "    def calPoints(self, operations:List[str])->int:\n",
        "        resStack=[]\n",
        "        for i in operations:\n",
        "            if i not i.isnumeric():\n",
        "                match i:\n",
        "                case 'D':resStack.append(2*resStack[-1])\n",
        "                case '+':resStack.append(resStack[-1]+resStack[-2])\n",
        "                case 'C':resStack.pop()\n",
        "            else:\n",
        "                resStack.append(int(i))\n",
        "        return sum(resStack)\n",
        "s=Solution(['5','2','C','D','+'])\n",
        "print(s)\n",
        ""
      ],
      "metadata": {
        "id": "Z3CewwLVmAPu",
        "colab": {
          "base_uri": "https://localhost:8080/",
          "height": 106
        },
        "outputId": "2bb89744-dbe4-4b69-f22f-8971144fdf25"
      },
      "execution_count": 17,
      "outputs": [
        {
          "output_type": "error",
          "ename": "SyntaxError",
          "evalue": "invalid syntax (<ipython-input-17-a15feb98936a>, line 20)",
          "traceback": [
            "\u001b[0;36m  File \u001b[0;32m\"<ipython-input-17-a15feb98936a>\"\u001b[0;36m, line \u001b[0;32m20\u001b[0m\n\u001b[0;31m    if i not i.isnumeric():\u001b[0m\n\u001b[0m             ^\u001b[0m\n\u001b[0;31mSyntaxError\u001b[0m\u001b[0;31m:\u001b[0m invalid syntax\n"
          ]
        }
      ]
    },
    {
      "cell_type": "code",
      "source": [
        "#Polycarp thinks about the meaning of life very often. He does this constantly, even when typing in the editor. Every time he starts brooding he can no longer fully\n",
        "#concentrate and repeatedly presses the keys that need to be pressed only once. For example, instead of the phrase \"how are you\" he can type \"hhoow aaaare yyoouu\".\n",
        "#Polycarp decided to automate the process of correcting such errors. He decided to write a plug-in to the text editor that will remove pairs of identical consecutive letters\n",
        " #(if there are any in the text). Of course, this is not exactly what Polycarp needs, but he's got to start from something!\n",
        "#Help Polycarp and write the main plug-in module. Your program should remove from a string all pairs of identical letters, which are consecutive. If after the removal\n",
        " #there appear new pairs, the program should remove them as well. Technically, its work should be equivalent to the following: while the string contains a pair of consecutive\n",
        " #identical letters, the pair should be deleted. Note that deleting of the consecutive identical letters can be done in any order, as any order leads to the same result.\n",
        "#Input\n",
        "#The input data consists of a single line to be processed. The length of the line is from 1 to 2·105 characters inclusive. The string contains only lowercase Latin letters.\n",
        "#Output\n",
        "#Print the given string after it is processed. It is guaranteed that the result will contain at least one character.\n",
        "dStr=input()\n",
        "stack=[]\n",
        "for i in dStr:\n",
        "  if stack and stack[-1]==i:\n",
        "    stack.pop()\n",
        "  else:\n",
        "    stack.append(i)\n",
        "print(''.join(stack))"
      ],
      "metadata": {
        "colab": {
          "base_uri": "https://localhost:8080/"
        },
        "id": "5Tyo_HpoAXrR",
        "outputId": "dde4b261-384e-4072-9be5-d198881fab70"
      },
      "execution_count": 25,
      "outputs": [
        {
          "output_type": "stream",
          "name": "stdout",
          "text": [
            "hhoowwaaarreeeyouu\n",
            "aeyo\n"
          ]
        }
      ]
    },
    {
      "cell_type": "code",
      "source": [
        "'''For sure, the love mobiles will roll again on this summer's street parade. Each year, the organisers decide on a fixed order for the decorated trucks. Experience taught them to keep\n",
        "free a side street to be able to bring the trucks into order.\n",
        "\n",
        "The side street is so narrow that no two cars can pass each other. Thus, the love mobile that enters the side street last must necessarily leave the side street first.\n",
        " Because the trucks and the ravers move up closely, a truck cannot drive back and re-enter the side street or the approach street.\n",
        "\n",
        "You are given the order in which the love mobiles arrive. Write a program that decides if the love mobiles can be brought into the order that the organisers want them to be.\n",
        "\n",
        "Input\n",
        "There are several test cases. The first line of each test case contains a single number n, the number of love mobiles. The second line contains the numbers 1 to n in\n",
        "an arbitrary order. All the numbers are separated by single spaces. These numbers indicate the order in which the trucks arrive in the approach street. No more than 1000\n",
        " love mobiles participate in the street parade. Input ends with number 0.\n",
        "Output\n",
        "For each test case your program has to output a line containing a single word \"yes\" if the love mobiles can be re-ordered with the help of the side street, and a\n",
        "single word \"no\" in the opposite case.'''\n",
        "n=int(input())\n",
        "trucks=list(map(int,input().split()))\n",
        "side=[]\n",
        "result=[]\n",
        "for i in range(0,len(trucks)):\n",
        "  if trucks[i]>trucks[i+1]:\n",
        "    side.append(trucks[i])\n",
        "  else:\n",
        "    result.append(0,trucks[i])\n",
        "result.insert(0,trucks[-1])\n",
        "result=side+result\n",
        "print(result)\n",
        "if sorted(trucks,reverse=True)==result:\n",
        "  print(\"yes\")\n",
        "else:\n",
        "  print(\"no\")"
      ],
      "metadata": {
        "colab": {
          "base_uri": "https://localhost:8080/",
          "height": 245
        },
        "id": "dCaGRgInIC5C",
        "outputId": "7ff5a0ce-1c73-4505-b43f-2cd17e709e2d"
      },
      "execution_count": 28,
      "outputs": [
        {
          "name": "stdout",
          "output_type": "stream",
          "text": [
            "1\n",
            "1 5 3 2 4\n"
          ]
        },
        {
          "output_type": "error",
          "ename": "TypeError",
          "evalue": "'list' object is not callable",
          "traceback": [
            "\u001b[0;31m---------------------------------------------------------------------------\u001b[0m",
            "\u001b[0;31mTypeError\u001b[0m                                 Traceback (most recent call last)",
            "\u001b[0;32m<ipython-input-28-0e54cfeef5d6>\u001b[0m in \u001b[0;36m<cell line: 17>\u001b[0;34m()\u001b[0m\n\u001b[1;32m     15\u001b[0m single word \"no\" in the opposite case.'''\n\u001b[1;32m     16\u001b[0m \u001b[0mn\u001b[0m\u001b[0;34m=\u001b[0m\u001b[0mint\u001b[0m\u001b[0;34m(\u001b[0m\u001b[0minput\u001b[0m\u001b[0;34m(\u001b[0m\u001b[0;34m)\u001b[0m\u001b[0;34m)\u001b[0m\u001b[0;34m\u001b[0m\u001b[0;34m\u001b[0m\u001b[0m\n\u001b[0;32m---> 17\u001b[0;31m \u001b[0mtrucks\u001b[0m\u001b[0;34m=\u001b[0m\u001b[0mlist\u001b[0m\u001b[0;34m(\u001b[0m\u001b[0mmap\u001b[0m\u001b[0;34m(\u001b[0m\u001b[0mint\u001b[0m\u001b[0;34m,\u001b[0m\u001b[0minput\u001b[0m\u001b[0;34m(\u001b[0m\u001b[0;34m)\u001b[0m\u001b[0;34m.\u001b[0m\u001b[0msplit\u001b[0m\u001b[0;34m(\u001b[0m\u001b[0;34m)\u001b[0m\u001b[0;34m)\u001b[0m\u001b[0;34m)\u001b[0m\u001b[0;34m\u001b[0m\u001b[0;34m\u001b[0m\u001b[0m\n\u001b[0m\u001b[1;32m     18\u001b[0m \u001b[0mside\u001b[0m\u001b[0;34m=\u001b[0m\u001b[0;34m[\u001b[0m\u001b[0;34m]\u001b[0m\u001b[0;34m\u001b[0m\u001b[0;34m\u001b[0m\u001b[0m\n\u001b[1;32m     19\u001b[0m \u001b[0mresult\u001b[0m\u001b[0;34m=\u001b[0m\u001b[0;34m[\u001b[0m\u001b[0;34m]\u001b[0m\u001b[0;34m\u001b[0m\u001b[0;34m\u001b[0m\u001b[0m\n",
            "\u001b[0;31mTypeError\u001b[0m: 'list' object is not callable"
          ]
        }
      ]
    },
    {
      "cell_type": "code",
      "source": [
        "n=int(input())\n",
        "trucks=list(map(int,input().split()))\n",
        "side=[]\n",
        "result=[]\n",
        "for i in range(0,len(trucks)-1):\n",
        "  if trucks[i]>trucks[i+1]:\n",
        "    side.append(trucks[i])\n",
        "  else:\n",
        "    result.insert(0,trucks[i])\n",
        "result.insert(0,trucks[-1])\n",
        "result=side+result\n",
        "print(result)\n",
        "if sorted(trucks,reverse=True)==result:\n",
        "  print(\"yes\")\n",
        "else:\n",
        "  print(\"no\")"
      ],
      "metadata": {
        "colab": {
          "base_uri": "https://localhost:8080/",
          "height": 245
        },
        "id": "NinMGbeMZnEa",
        "outputId": "c37ece88-7ef9-4e63-cc5d-d2d7ba504609"
      },
      "execution_count": 31,
      "outputs": [
        {
          "name": "stdout",
          "output_type": "stream",
          "text": [
            "5\n",
            "5 1 4 2 3\n"
          ]
        },
        {
          "output_type": "error",
          "ename": "TypeError",
          "evalue": "'list' object is not callable",
          "traceback": [
            "\u001b[0;31m---------------------------------------------------------------------------\u001b[0m",
            "\u001b[0;31mTypeError\u001b[0m                                 Traceback (most recent call last)",
            "\u001b[0;32m<ipython-input-31-456776c6e7f3>\u001b[0m in \u001b[0;36m<cell line: 2>\u001b[0;34m()\u001b[0m\n\u001b[1;32m      1\u001b[0m \u001b[0mn\u001b[0m\u001b[0;34m=\u001b[0m\u001b[0mint\u001b[0m\u001b[0;34m(\u001b[0m\u001b[0minput\u001b[0m\u001b[0;34m(\u001b[0m\u001b[0;34m)\u001b[0m\u001b[0;34m)\u001b[0m\u001b[0;34m\u001b[0m\u001b[0;34m\u001b[0m\u001b[0m\n\u001b[0;32m----> 2\u001b[0;31m \u001b[0mtrucks\u001b[0m\u001b[0;34m=\u001b[0m\u001b[0mlist\u001b[0m\u001b[0;34m(\u001b[0m\u001b[0mmap\u001b[0m\u001b[0;34m(\u001b[0m\u001b[0mint\u001b[0m\u001b[0;34m,\u001b[0m\u001b[0minput\u001b[0m\u001b[0;34m(\u001b[0m\u001b[0;34m)\u001b[0m\u001b[0;34m.\u001b[0m\u001b[0msplit\u001b[0m\u001b[0;34m(\u001b[0m\u001b[0;34m)\u001b[0m\u001b[0;34m)\u001b[0m\u001b[0;34m)\u001b[0m\u001b[0;34m\u001b[0m\u001b[0;34m\u001b[0m\u001b[0m\n\u001b[0m\u001b[1;32m      3\u001b[0m \u001b[0mside\u001b[0m\u001b[0;34m=\u001b[0m\u001b[0;34m[\u001b[0m\u001b[0;34m]\u001b[0m\u001b[0;34m\u001b[0m\u001b[0;34m\u001b[0m\u001b[0m\n\u001b[1;32m      4\u001b[0m \u001b[0mresult\u001b[0m\u001b[0;34m=\u001b[0m\u001b[0;34m[\u001b[0m\u001b[0;34m]\u001b[0m\u001b[0;34m\u001b[0m\u001b[0;34m\u001b[0m\u001b[0m\n\u001b[1;32m      5\u001b[0m \u001b[0;32mfor\u001b[0m \u001b[0mi\u001b[0m \u001b[0;32min\u001b[0m \u001b[0mrange\u001b[0m\u001b[0;34m(\u001b[0m\u001b[0;36m0\u001b[0m\u001b[0;34m,\u001b[0m\u001b[0mlen\u001b[0m\u001b[0;34m(\u001b[0m\u001b[0mtrucks\u001b[0m\u001b[0;34m)\u001b[0m\u001b[0;34m-\u001b[0m\u001b[0;36m1\u001b[0m\u001b[0;34m)\u001b[0m\u001b[0;34m:\u001b[0m\u001b[0;34m\u001b[0m\u001b[0;34m\u001b[0m\u001b[0m\n",
            "\u001b[0;31mTypeError\u001b[0m: 'list' object is not callable"
          ]
        }
      ]
    },
    {
      "cell_type": "code",
      "source": [],
      "metadata": {
        "id": "tth5ZX7nbtvR"
      },
      "execution_count": null,
      "outputs": []
    }
  ]
}