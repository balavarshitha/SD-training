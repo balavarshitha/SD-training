{
  "nbformat": 4,
  "nbformat_minor": 0,
  "metadata": {
    "colab": {
      "provenance": []
    },
    "kernelspec": {
      "name": "python3",
      "display_name": "Python 3"
    },
    "language_info": {
      "name": "python"
    }
  },
  "cells": [
    {
      "cell_type": "code",
      "execution_count": null,
      "metadata": {
        "colab": {
          "base_uri": "https://localhost:8080/"
        },
        "id": "A8ZS9zanNIrk",
        "outputId": "30feb618-6953-43e1-f562-f68862f4b370"
      },
      "outputs": [
        {
          "output_type": "stream",
          "name": "stdout",
          "text": [
            "1\n",
            "20 4 8 16\n",
            "3\n"
          ]
        }
      ],
      "source": [
        "#A,B,C are three planes ,A will take off every pth day ,B will take off every qth day and C will take off every rth day,find the maximum no of take offs in N days\n",
        "#there is only one runway\n",
        "#ip:\n",
        "#1\n",
        "#10 2 4 7\n",
        "#op:\n",
        "#4\n",
        "tCase=int(input())\n",
        "tSum=0\n",
        "for i in range(tCase):\n",
        "  days,p,q,r=list(map(int,input().split()))\n",
        "  for i in range(1,days+1):\n",
        "    a=i%p\n",
        "    b=i%q\n",
        "    c=i%r\n",
        "    if a==0 or b==0 or c==0:\n",
        "      if a==0 and b==0:\n",
        "        continue\n",
        "      elif a==0 and c==0:\n",
        "        continue\n",
        "      elif b==0 and c==0:\n",
        "        continue\n",
        "      tSum+=1\n",
        "print(tSum)"
      ]
    },
    {
      "cell_type": "code",
      "source": [
        "#Implement a first in first out (FIFO) queue using only two stacks. The implemented queue should support all the functions of a normal queue (push, peek, pop, and empty).\n",
        "#Implement the MyQueue class:\n",
        "#void push(int x) Pushes element x to the back of the queue.\n",
        "#int pop() Removes the element from the front of the queue and returns it.\n",
        "#int peek() Returns the element at the front of the queue.\n",
        "#boolean empty() Returns true if the queue is empty, false otherwise.\n",
        "class MyQueue:\n",
        "    def __init__(self):\n",
        "        self.stack1 = []\n",
        "        self.stack2 = []\n",
        "\n",
        "    def push(self, x: int) -> None:\n",
        "        self.stack1.append(x)\n",
        "\n",
        "    def pop(self) -> int:\n",
        "        if not self.stack2:\n",
        "            while self.stack1:\n",
        "                self.stack2.append(self.stack1.pop())\n",
        "        return self.stack2.pop()\n",
        "\n",
        "    def peek(self) -> int:\n",
        "        if not self.stack2:\n",
        "            while self.stack1:\n",
        "                self.stack2.append(self.stack1.pop())\n",
        "        return self.stack2[-1]\n",
        "\n",
        "    def empty(self) -> bool:\n",
        "        return not self.stack1 and not self.stack2\n",
        "\n",
        "# Example usage\n",
        "if __name__ == \"__main__\":\n",
        "    myQueue = MyQueue()\n",
        "    myQueue.push(1)    # queue is: [1]\n",
        "    myQueue.push(2)    # queue is: [1, 2]\n",
        "    print(myQueue.peek())  # return 1\n",
        "    print(myQueue.pop())   # return 1, queue is [2]\n",
        "    print(myQueue.empty()) # return False\n"
      ],
      "metadata": {
        "colab": {
          "base_uri": "https://localhost:8080/"
        },
        "id": "roJHHzfZtn5T",
        "outputId": "555537f2-c991-422f-dc8d-9b82abe96fd4"
      },
      "execution_count": null,
      "outputs": [
        {
          "output_type": "stream",
          "name": "stdout",
          "text": [
            "1\n",
            "1\n",
            "False\n"
          ]
        }
      ]
    },
    {
      "cell_type": "code",
      "source": [
        "'''Given a string s, find the first non-repeating character in it and return its index. If it does not exist, return -1.\n",
        "Example 1:\n",
        "Input: s = \"leetcode\"\n",
        "Output: 0\n",
        "Example 2:\n",
        "Input: s = \"loveleetcode\"\n",
        "Output: 2\n",
        "Example 3:\n",
        "Input: s = \"aabb\"\n",
        "Output: -1\n",
        "Constraints:\n",
        "1 <= s.length <= 105\n",
        "s consists of only lowercase English letters.'''\n",
        "def firstUniqChar(s: str) -> int:\n",
        "    # Dictionary to store the frequency of each character\n",
        "    char_count = {}\n",
        "\n",
        "    # First pass: count the occurrences of each character\n",
        "    for char in s:\n",
        "        if char in char_count:\n",
        "            char_count[char] += 1\n",
        "        else:\n",
        "            char_count[char] = 1\n",
        "\n",
        "    # Second pass: find the first non-repeating character\n",
        "    for index, char in enumerate(s):\n",
        "        if char_count[char] == 1:\n",
        "            return index\n",
        "\n",
        "    # If no non-repeating character is found, return -1\n",
        "    return -1\n",
        "\n",
        "# Example usage\n",
        "s1 = \"leetcode\"\n",
        "s2 = \"loveleetcode\"\n",
        "s3 = \"aabb\"\n",
        "\n",
        "print(firstUniqChar(s1))  # Output: 0\n",
        "print(firstUniqChar(s2))  # Output: 2\n",
        "print(firstUniqChar(s3))  # Output: -1\n"
      ],
      "metadata": {
        "colab": {
          "base_uri": "https://localhost:8080/"
        },
        "id": "LlWP1DRP4B1i",
        "outputId": "e7fa62fd-0145-463a-fdc1-04da5eb4d75f"
      },
      "execution_count": null,
      "outputs": [
        {
          "output_type": "stream",
          "name": "stdout",
          "text": [
            "0\n",
            "2\n",
            "-1\n"
          ]
        }
      ]
    },
    {
      "cell_type": "code",
      "source": [],
      "metadata": {
        "id": "M0mnDpW-8eX3"
      },
      "execution_count": null,
      "outputs": []
    }
  ]
}