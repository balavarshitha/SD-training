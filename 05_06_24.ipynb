{
  "nbformat": 4,
  "nbformat_minor": 0,
  "metadata": {
    "colab": {
      "provenance": []
    },
    "kernelspec": {
      "name": "python3",
      "display_name": "Python 3"
    },
    "language_info": {
      "name": "python"
    }
  },
  "cells": [
    {
      "cell_type": "code",
      "execution_count": null,
      "metadata": {
        "colab": {
          "base_uri": "https://localhost:8080/"
        },
        "id": "BHSiLZBef_Le",
        "outputId": "91c51c46-7d17-4894-9dde-00923a03ce41"
      },
      "outputs": [
        {
          "output_type": "stream",
          "name": "stdout",
          "text": [
            "3 \n",
            "1 3 2\n",
            "1 3 2 "
          ]
        }
      ],
      "source": [
        "'''Little Petya very much likes gifts. Recently he has received a new laptop as a New Year gift from his mother. He immediately decided to give it to somebody else as what can\n",
        "be more pleasant than giving somebody gifts. And on this occasion he organized a New Year party at his place and invited n his friends there.\n",
        "If there's one thing Petya likes more that receiving gifts, that's watching others giving gifts to somebody else. Thus, he safely hid the laptop until the next New Year\n",
        "and made up his mind to watch his friends exchanging gifts while he does not participate in the process. He numbered all his friends with integers from 1 to n.\n",
        " Petya remembered that a friend number i gave a gift to a friend number pi. He also remembered that each of his friends received exactly one gift.\n",
        "Now Petya wants to know for each friend i the number of a friend who has given him a gift.\n",
        "Input\n",
        "The first line contains one integer n (1 ≤ n ≤ 100) — the quantity of friends Petya invited to the party. The second line contains n space-separated integers:\n",
        "the i-th number is pi — the number of a friend who gave a gift to friend number i. It is guaranteed that each friend received exactly one gift. It is possible that some\n",
        "friends do not share Petya's ideas of giving gifts to somebody else. Those friends gave the gifts to themselves.\n",
        "Output\n",
        "Print n space-separated integers: the i-th number should equal the number of the friend who gave a gift to friend number i.'''\n",
        "n=int(input())\n",
        "fList=list(map(int,input().split()))\n",
        "info={}\n",
        "k=1\n",
        "for i in fList:\n",
        "  info[i-1]=k\n",
        "  k+=1\n",
        "for i in range(n):\n",
        "  print(info[i],end=' ')\n"
      ]
    },
    {
      "cell_type": "code",
      "source": [
        "'''During the break the schoolchildren, boys and girls, formed a queue of n people in the canteen. Initially the children stood in the order they entered the canteen.\n",
        "However, after a while the boys started feeling awkward for standing in front of the girls in the queue and they started letting the girls move forward each second.\n",
        "Let's describe the process more precisely. Let's say that the positions in the queue are sequentially numbered by integers from 1 to n, at that the person in the positio\n",
        "n number 1 is served first. Then, if at time x a boy stands on the i-th position and a girl stands on the (i + 1)-th position, then at time x + 1 the i-th position will have\n",
        " a girl and the (i + 1)-th position will have a boy. The time is given in seconds.\n",
        "You've got the initial position of the children, at the initial moment of time. Determine the way the queue is going to look after t seconds.\n",
        "Input\n",
        "The first line contains two integers n and t (1 ≤ n, t ≤ 50), which represent the number of children in the queue and the time after which the queue will transform into the\n",
        "arrangement you need to find.\n",
        "The next line contains string s, which represents the schoolchildren's initial arrangement. If the i-th position in the queue contains a boy, then the i-th character of string\n",
        " s equals \"B\", otherwise the i-th character equals \"G\".\n",
        "Output\n",
        "Print string a, which describes the arrangement after t seconds. If the i-th position has a boy after the needed time, then the i-th character a must equal \"B\", otherwise it\n",
        " must equal \"G\".'''\n",
        "n,t=map(int,input().split())\n",
        "s=list(input())\n",
        "i=1\n",
        "while i<len(s):\n",
        "  if s[i]=='G' and s[i-1]=='B':\n",
        "    s[i]='B'\n",
        "    s[i-1]='G'\n",
        "    i+=1\n",
        "  i+=1\n",
        "print(''.join(s))\n"
      ],
      "metadata": {
        "colab": {
          "base_uri": "https://localhost:8080/"
        },
        "id": "_tcqVHBCImNF",
        "outputId": "8f4033b5-0581-4d91-f81e-adf7ef251b13"
      },
      "execution_count": null,
      "outputs": [
        {
          "output_type": "stream",
          "name": "stdout",
          "text": [
            "5 2\n",
            "BGGBG\n",
            "GBGGB\n"
          ]
        }
      ]
    },
    {
      "cell_type": "code",
      "source": [
        "'''One beautiful day Vasily the bear painted 2m circles of the same radius R on a coordinate plane. Circles with numbers from 1 to m had centers at points\n",
        " (2R - R, 0), (4R - R, 0), ..., (2Rm - R, 0), respectively. Circles with numbers from m + 1 to 2m had centers at points (2R - R, 2R), (4R - R, 2R), ..., (2Rm - R, 2R), respectively.\n",
        "Naturally, the bear painted the circles for a simple experiment with a fly. The experiment continued for m2 days. Each day of the experiment got its own unique number\n",
        "from 0 to m2 - 1, inclusive.\n",
        "On the day number i the following things happened:\n",
        "The fly arrived at the coordinate plane at the center of the circle with number  ( is the result of dividing number x by number y, rounded down to an integer).\n",
        "The fly went along the coordinate plane to the center of the circle number  ( is the remainder after dividing number x by number y). The bear noticed that the fly\n",
        "went from the center of circle v to the center of circle u along the shortest path with all points lying on the border or inside at least one of the 2m circles.\n",
        "After the fly reached the center of circle u, it flew away in an unknown direction.\n",
        "Help Vasily, count the average distance the fly went along the coordinate plane during each of these m2 days.\n",
        "Input\n",
        "The first line contains two integers m, R (1 ≤ m ≤ 105, 1 ≤ R ≤ 10).\n",
        "Output\n",
        "In a single line print a single real number — the answer to the problem. The answer will be considered correct if its absolute or relative error doesn't exceed 10 - 6.'''\n",
        "m,r=map(int,input().split())\n",
        "answer=(m*(m+1)*(m+2)/3-m)*2\n",
        "answer+=(2.0**0.5-2)*((m*m-m)+(m*m-m-(m-1)*2))\n",
        "answer/=(m**2)\n",
        "answer*=r\n",
        "print(\"{:.10f}\".format(round(answer,10)))"
      ],
      "metadata": {
        "colab": {
          "base_uri": "https://localhost:8080/"
        },
        "id": "oD5D9NvlmRW4",
        "outputId": "577d5cff-f934-49fe-83d0-afa5bb31c8c4"
      },
      "execution_count": null,
      "outputs": [
        {
          "output_type": "stream",
          "name": "stdout",
          "text": [
            "2 2\n",
            "5.4142135624\n"
          ]
        }
      ]
    },
    {
      "cell_type": "code",
      "source": [],
      "metadata": {
        "id": "_OQKSfGauG-G"
      },
      "execution_count": null,
      "outputs": []
    }
  ]
}