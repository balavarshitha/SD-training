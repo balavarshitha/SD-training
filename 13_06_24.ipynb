{
  "nbformat": 4,
  "nbformat_minor": 0,
  "metadata": {
    "colab": {
      "provenance": []
    },
    "kernelspec": {
      "name": "python3",
      "display_name": "Python 3"
    },
    "language_info": {
      "name": "python"
    }
  },
  "cells": [
    {
      "cell_type": "markdown",
      "source": [
        "BACK TRACKING ALGORITHM\n",
        "Back tracking is an algorithm technique that incrementally solves problems by testing\n",
        "partial solutions and discarding those that are unsuitable"
      ],
      "metadata": {
        "id": "VGhq7-mDxutw"
      }
    },
    {
      "cell_type": "markdown",
      "source": [
        "RECURSIVE APPROACH\n",
        "Backtracking algorithms are commonly built using recursion enabling step by step problem solving through exploring various possibilities"
      ],
      "metadata": {
        "id": "4CBo0XwFx-So"
      }
    },
    {
      "cell_type": "code",
      "source": [
        "#back tracking algorithm\n",
        "def toString(List):\n",
        "  return \"\".join(List)\n",
        "def permute(a,l,r):\n",
        "  if l==r:\n",
        "    print(toString(a))\n",
        "  else:\n",
        "    for i in range(l,r):\n",
        "      a[l],a[i]=a[i],a[l]\n",
        "      permute(a,l+1,r)\n",
        "      a[l],a[i]=a[i],a[l]\n",
        "string='ABC'\n",
        "n=len(string)\n",
        "a=list(string)\n",
        "permute(a,0,n)"
      ],
      "metadata": {
        "colab": {
          "base_uri": "https://localhost:8080/"
        },
        "id": "UqKTBiNv1JLl",
        "outputId": "ba72add6-1a61-4613-ba8e-eb6a5be74f6b"
      },
      "execution_count": 1,
      "outputs": [
        {
          "output_type": "stream",
          "name": "stdout",
          "text": [
            "ABC\n",
            "ACB\n",
            "BAC\n",
            "BCA\n",
            "CBA\n",
            "CAB\n"
          ]
        }
      ]
    },
    {
      "cell_type": "code",
      "source": [],
      "metadata": {
        "id": "FOJTyhiF1qlj"
      },
      "execution_count": null,
      "outputs": []
    }
  ]
}